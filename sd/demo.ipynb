{
 "cells": [
  {
   "cell_type": "code",
   "execution_count": 4,
   "metadata": {},
   "outputs": [
    {
     "name": "stdout",
     "output_type": "stream",
     "text": [
      "Using device: cuda\n"
     ]
    },
    {
     "name": "stderr",
     "output_type": "stream",
     "text": [
      "100%|██████████| 45/45 [09:05<00:00, 12.12s/it]\n"
     ]
    }
   ],
   "source": [
    "import model_loader\n",
    "import pipeline\n",
    "from PIL import Image\n",
    "from pathlib import Path\n",
    "from transformers import CLIPTokenizer\n",
    "import torch\n",
    "import gc\n",
    "\n",
    "DEVICE = \"gpu\"\n",
    "\n",
    "ALLOW_CUDA = True\n",
    "ALLOW_MPS = True\n",
    "\n",
    "if torch.cuda.is_available() and ALLOW_CUDA:\n",
    "    DEVICE = \"cuda\"\n",
    "elif (torch.has_mps or torch.backends.mps.is_available()) and ALLOW_MPS:\n",
    "    DEVICE = \"mps\"\n",
    "print(f\"Using device: {DEVICE}\")\n",
    "\n",
    "tokenizer = CLIPTokenizer(\"../data/vocab.json\", merges_file=\"../data/merges.txt\")\n",
    "model_file = \"../data/inkpunk-diffusion-v1.ckpt\"\n",
    "models = model_loader.preload_models_from_standard_weights(model_file, DEVICE)\n",
    "\n",
    "## TEXT TO IMAGE\n",
    "\n",
    "# prompt = \"A dog with sunglasses, wearing comfy hat, looking at camera, highly detailed, ultra sharp, cinematic, 100mm lens, 8k resolution.\"\n",
    "prompt = \"A cat stretching on the floor, highly detailed, ultra sharp, cinematic, 100mm lens, 8k resolution.\"\n",
    "uncond_prompt = \"\"  # Also known as negative prompt\n",
    "do_cfg = True\n",
    "cfg_scale = 8  # min: 1, max: 14\n",
    "\n",
    "## IMAGE TO IMAGE\n",
    "\n",
    "input_image = None\n",
    "# Comment to disable image to image\n",
    "image_path = \"../images/dog.jpeg\"\n",
    "#input_image = Image.open(image_path)\n",
    "\n",
    "\n",
    "strength = 0.9\n",
    "\n",
    "\n",
    "## SAMPLER\n",
    "sampler = \"ddpm\"\n",
    "num_inference_steps = 50\n",
    "seed = 6\n",
    "\n",
    "# Use torch.no_grad() to avoid memory issues with gradient calculation\n",
    "with torch.no_grad():\n",
    "    output_image = pipeline.generate(\n",
    "        prompt=prompt,\n",
    "        uncond_prompt=uncond_prompt,\n",
    "        input_image=input_image,\n",
    "        strength=strength,\n",
    "        do_cfg=True,\n",
    "        cfg_scale=8,\n",
    "        sampler_name=sampler,\n",
    "        n_inference_steps=num_inference_steps,\n",
    "        seed=seed,\n",
    "        models=models,\n",
    "        device=DEVICE,\n",
    "        idle_device=\"cpu\",\n",
    "        tokenizer=tokenizer,\n",
    "    )\n",
    "\n",
    "# Mostrar o guardar la imagen de salida\n",
    "output_image_pil = Image.fromarray(output_image)\n",
    "output_image_pil.show()  # Para mostrar la imagen\n",
    "# output_image_pil.save(\"output_image.png\")  # Para guardar la imagen en disco\n",
    "\n",
    "# Limpiar memoria de GPU\n",
    "def free_gpu_memory():\n",
    "    gc.collect()\n",
    "    if torch.cuda.is_available():\n",
    "        torch.cuda.empty_cache()\n",
    "    elif (torch.has_mps or torch.backends.mps.is_available()):\n",
    "        torch.mps.empty_cache()\n",
    "\n",
    "free_gpu_memory()\n"
   ]
  }
 ],
 "metadata": {
  "kernelspec": {
   "display_name": "Python 3",
   "language": "python",
   "name": "python3"
  },
  "language_info": {
   "codemirror_mode": {
    "name": "ipython",
    "version": 3
   },
   "file_extension": ".py",
   "mimetype": "text/x-python",
   "name": "python",
   "nbconvert_exporter": "python",
   "pygments_lexer": "ipython3",
   "version": "3.12.1"
  }
 },
 "nbformat": 4,
 "nbformat_minor": 2
}
